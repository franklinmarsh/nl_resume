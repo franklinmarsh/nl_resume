{
 "cells": [
  {
   "cell_type": "markdown",
   "metadata": {},
   "source": [
    " # NLTK Resume Tool\n",
    " \n",
    " 1. Scrape job description with BeautifulSoup\n",
    " 2. Process text with nltk, return a list of parts of speech and frequency\n",
    " 3. Select the best match from a list of possible resume statements.\n",
    " 4. Construct resume in LaTeX or microsoft word."
   ]
  },
  {
   "cell_type": "markdown",
   "metadata": {},
   "source": [
    "### Import the python scientific suite"
   ]
  },
  {
   "cell_type": "code",
   "execution_count": 1,
   "metadata": {
    "collapsed": false
   },
   "outputs": [
    {
     "name": "stderr",
     "output_type": "stream",
     "text": [
      "/Users/Franklin/anaconda/lib/python2.7/site-packages/matplotlib/font_manager.py:273: UserWarning: Matplotlib is building the font cache using fc-list. This may take a moment.\n",
      "  warnings.warn('Matplotlib is building the font cache using fc-list. This may take a moment.')\n"
     ]
    }
   ],
   "source": [
    "#imports \n",
    "import numpy as np\n",
    "import matplotlib.pyplot as plt\n",
    "\n",
    "import pandas as pd\n",
    "from pandas.tools.plotting import parallel_coordinates\n",
    "pd.set_option('display.max_columns', None)\n",
    "\n",
    "import sklearn\n",
    "import seaborn as sns\n",
    "import matplotlib as mpl\n",
    "import scipy\n",
    "\n",
    "import itertools\n",
    "\n",
    "import statsmodels.formula.api as smf\n",
    "from scipy.optimize import curve_fit\n",
    "import scipy.signal\n",
    "\n",
    "from gatspy.periodic import LombScargleFast, LombScargleMultibandFast, LombScargle\n",
    "\n",
    "from collections import defaultdict\n",
    "\n",
    "from sklearn import datasets, linear_model\n",
    "from sklearn.cross_validation import train_test_split\n",
    "from sklearn.preprocessing import StandardScaler\n",
    "from sklearn import svm\n",
    "\n",
    "# This is importing a \"future\" python version 3 print function.\n",
    "from __future__ import print_function\n",
    "from __future__ import division\n",
    "\n",
    "#plotting options\n",
    "%matplotlib inline\n",
    "sns.set()\n",
    "sns.set_style('ticks')\n",
    "sns.set_context('paper', font_scale = 1.5)\n",
    "sns.set_palette('husl')"
   ]
  },
  {
   "cell_type": "markdown",
   "metadata": {},
   "source": [
    " ### Import nltk and re"
   ]
  },
  {
   "cell_type": "code",
   "execution_count": 2,
   "metadata": {
    "collapsed": false
   },
   "outputs": [],
   "source": [
    "import nltk #natural language toolkit\n",
    "import re #regular expressions\n",
    "from bs4 import BeautifulSoup #for web scraping\n",
    "import requests #requests for pulling html data\n",
    "\n",
    "#nltk.download() #uncomment this to download the required nltk resources that are not in the anaconda package.\n",
    "#Or in the shell: python -m nltk.downloader all"
   ]
  },
  {
   "cell_type": "markdown",
   "metadata": {},
   "source": [
    "Let's pull the HTML of a job description:"
   ]
  },
  {
   "cell_type": "code",
   "execution_count": 3,
   "metadata": {
    "collapsed": false
   },
   "outputs": [],
   "source": [
    "html = requests.get('https://jobs.te.com/job/-/-/1122/2719233?apstr=%3Fmode%3Djob%26iis%3DIndeed%26iisn%3DIndeed.com&ss=paid').text"
   ]
  },
  {
   "cell_type": "markdown",
   "metadata": {},
   "source": [
    "From the html, we'll create a soup object, and then get a list of strings ('data')"
   ]
  },
  {
   "cell_type": "code",
   "execution_count": 4,
   "metadata": {
    "collapsed": false
   },
   "outputs": [],
   "source": [
    "soup = BeautifulSoup(html, 'lxml')\n",
    "data = soup.findAll(text = True)"
   ]
  },
  {
   "cell_type": "code",
   "execution_count": 5,
   "metadata": {
    "collapsed": false
   },
   "outputs": [
    {
     "data": {
      "text/plain": [
       "[u'html',\n",
       " u'\\n',\n",
       " u'\\n',\n",
       " u'\\n',\n",
       " u'\\n',\n",
       " u'\\n',\n",
       " u'Data Scientist Description at TE CONNECTIVITY',\n",
       " u'\\n',\n",
       " u' matchmedia polyfill ',\n",
       " u'\\n',\n",
       " u'[if lte IE 9]>\\r\\n\\t\\t<script src=\"//tbcdn.talentbrew.com/bundles/polyfill\"></script>\\r\\n\\t<![endif]',\n",
       " u'\\n',\n",
       " u'\\n',\n",
       " u'\\n',\n",
       " u\"link href='https://fonts.googleapis.com/css?family=Nunito:400,700,300' rel='stylesheet' type='text/css'\",\n",
       " u'\\n',\n",
       " u'\\n',\n",
       " u'\\n',\n",
       " u'document.getElementsByTagName(\"html\")[0].className = document.getElementsByTagName(\"html\")[0].className.replace(\"no-js\", \"js\");',\n",
       " u'\\n',\n",
       " u'\\n',\n",
       " u'\\n',\n",
       " u'\\n',\n",
       " u'Send Google Analytics',\n",
       " u'\\n',\n",
       " u'\\r\\n        (function (i, s, o, g, r, a, m) {\\r\\n            i[\\'GoogleAnalyticsObject\\'] = r;\\r\\n            i[r] = i[r] || function () { (i[r].q = i[r].q || []).push(arguments) }, i[r].l = 1 * new Date();\\r\\n            a = s.createElement(o),\\r\\n            m = s.getElementsByTagName(o)[0];\\r\\n            a.async = 1;\\r\\n            a.src = g;\\r\\n            m.parentNode.insertBefore(a, m);\\r\\n        })(window, document, \\'script\\', \\'//www.google-analytics.com/analytics.js\\', \\'ga\\');\\r\\n        ga(\\'create\\', \\'UA-44116121-1\\', \\'auto\\');\\r\\n        ga(\\'require\\', \\'displayfeatures\\');\\r\\n\\r\\n        setTimeout(function () {\\r\\n            function createHiddenInput(id, value) {\\r\\n                var input = document.createElement(\\'input\\');\\r\\n                input.type = \\'hidden\\';\\r\\n                input.id = id;\\r\\n                input.value = value;\\r\\n                if (document.body != null) {\\r\\n                    document.body.appendChild(input);\\r\\n                }\\r\\n            }\\r\\n\\r\\n                createHiddenInput(\\'dimension1\\', \\'2719233\\');\\r\\n                createHiddenInput(\\'dimension2\\', \\'2016-72464\\');\\r\\n                createHiddenInput(\\'dimension3\\', \\'1122\\');\\r\\n                createHiddenInput(\\'dimension4\\', \\'1122\\');\\r\\n                    createHiddenInput(\\'dimension6\\', \\'Strategy-Business-Development-and-M&amp;A\\');         \\r\\n                    createHiddenInput(\\'dimension7\\', \\'Berwyn-Pennsylvania-United-States\\');\\r\\n                    createHiddenInput(\\'dimension9\\', \\'Data Scientist\\'); \\r\\n                        createHiddenInput(\\'dimension10\\', \\'JobDetails\\');\\r\\n                sendCustomDimensions();\\r\\n\\r\\n\\r\\n\\r\\n    \\r\\n\\r\\n\\r\\n\\r\\n\\r\\n\\r\\n            function sendCustomDimensions() {\\r\\n                var dimensions = {\\r\\n                    1: \\'dimension1\\',\\r\\n                    2: \\'dimension2\\',\\r\\n                    3: \\'dimension3\\',\\r\\n                    4: \\'dimension4\\',\\r\\n                    5: \\'dimension5\\',\\r\\n                    6: \\'dimension6\\',\\r\\n                    7: \\'dimension7\\',\\r\\n                    8: \\'dimension8\\',\\r\\n                    9: \\'dimension9\\',\\r\\n                    10: \\'dimension10\\',\\r\\n                    11: \\'dimension11\\'\\r\\n                };\\r\\n\\r\\n                var dimensionsToSend = {};\\r\\n                for (var cd in dimensions) {\\r\\n                    if (dimensions.hasOwnProperty(cd)) {\\r\\n                        var cdElement = document.getElementById(dimensions[cd]);\\r\\n                        if (document.getElementById(dimensions[cd]) != undefined) {\\r\\n                            dimensionsToSend[dimensions[cd]] = cdElement.value;\\r\\n                        }\\r\\n                    }\\r\\n                }\\r\\n\\r\\n                if (window[\\'adBlocker\\'] == undefined) var adBlockerStatus = \"Active\";\\r\\n                else var adBlockerStatus = \"Inactive\";\\r\\n                dimensionsToSend[\"dimension12\"] = adBlockerStatus;\\r\\n                createHiddenInput(\\'dimension12\\', adBlockerStatus);\\r\\n\\r\\n\\r\\n                if (Object.keys(dimensionsToSend).length >= 1) {\\r\\n                    ga(\\'send\\', \\'pageview\\', dimensionsToSend);\\r\\n                }\\r\\n            }\\r\\n        }, 700);\\r\\n    ',\n",
       " u'\\n',\n",
       " u'\\n',\n",
       " u'\\n',\n",
       " u'h1>TE CONNECTIVITY</h1',\n",
       " u'\\n',\n",
       " u\"    \\r\\n        var gtmValues = {};\\r\\n        dataLayer = [];\\r\\n\\r\\n            gtmValues = { 'JobID': '2719233', 'ReqID': '2016-72464', 'OrgID': '1122', 'tbcn-division': '1122' };\\r\\n                gtmValues['tbcn-jobcategory'] = 'Strategy-Business-Development-and-M&amp;A';\\r\\n                gtmValues['tbcn-location'] = 'Berwyn-Pennsylvania-United-States';\\r\\n                gtmValues['tbcn-jobtitle'] = 'Data Scientist';\\r\\n                    gtmValues['pagetype'] = 'JobDetails';\\r\\n            dataLayer.push(gtmValues);\\r\\n\\r\\n\\r\\n\\r\\n\\r\\n\\r\\n\\r\\n    \",\n",
       " u'\\n',\n",
       " u' Google Tag Manager ',\n",
       " u'\\n',\n",
       " u'\\n',\n",
       " u\"(function(w,d,s,l,i){w[l]=w[l]||[];w[l].push({'gtm.start':\\r\\n    new Date().getTime(),event:'gtm.js'});var f=d.getElementsByTagName(s)[0],\\r\\n    j=d.createElement(s),dl=l!='dataLayer'?'&l='+l:'';j.async=true;j.src=\\r\\n    '//www.googletagmanager.com/gtm.js?id='+i+dl;f.parentNode.insertBefore(j,f);\\r\\n    })(window, document, 'script', 'dataLayer', 'GTM-M6Z3SC');\",\n",
       " u'\\n',\n",
       " u' End Google Tag Manager ',\n",
       " u'\\n',\n",
       " u'\\n',\n",
       " u'Skip Navigation',\n",
       " u'\\n',\n",
       " u'\\n',\n",
       " u'\\n',\n",
       " u'a href=\"http://www.te.com/global-en/home.html\" class=\"logo\"><img src=\"//tbcdn.talentbrew.com/company/1122/img/logo/logo-2487-2708.png\" alt=\"Jobs at TE CONNECTIVITY\" /></a',\n",
       " u'\\n',\n",
       " u'\\n',\n",
       " u'Go to TE.com',\n",
       " u'\\n',\n",
       " u'\\n',\n",
       " u'\\n',\n",
       " u'\\n',\n",
       " u'\\n',\n",
       " u'\\n',\n",
       " u'Search Jobs',\n",
       " u'\\n',\n",
       " u'\\n',\n",
       " u'Search Jobs',\n",
       " u'\\n',\n",
       " u'\\n',\n",
       " u'Keyword',\n",
       " u'\\n',\n",
       " u'\\n',\n",
       " u'\\n',\n",
       " u'\\n',\n",
       " u'Location',\n",
       " u'\\n',\n",
       " u'\\n',\n",
       " u'\\n',\n",
       " u'\\n',\n",
       " u'\\n',\n",
       " u'Radius',\n",
       " u'\\n',\n",
       " u'-- select --',\n",
       " u'\\n',\n",
       " u'5 miles',\n",
       " u'\\n',\n",
       " u'15 miles',\n",
       " u'\\n',\n",
       " u'25 miles',\n",
       " u'\\n',\n",
       " u'35 miles',\n",
       " u'\\n',\n",
       " u'50 miles',\n",
       " u'\\n',\n",
       " u'\\n',\n",
       " u'Search Jobs',\n",
       " u'\\n',\n",
       " u'\\n',\n",
       " u'\\n',\n",
       " u'\\n',\n",
       " u'\\n',\n",
       " u'\\n',\n",
       " u'\\n',\n",
       " u'\\n',\n",
       " u'\\n',\n",
       " u'connectivity ',\n",
       " u'counts on you',\n",
       " u'\\n',\n",
       " u'\\n',\n",
       " u'\\n',\n",
       " u'\\n',\n",
       " u'\\n',\n",
       " u'\\n',\n",
       " u'Data Scientist',\n",
       " u'\\n',\n",
       " u'Location',\n",
       " u' BERWYN',\n",
       " u'\\n',\n",
       " u'Apply Now',\n",
       " u'\\n',\n",
       " u'Job ID',\n",
       " u' 2719233',\n",
       " u'\\n',\n",
       " u'Date posted',\n",
       " u' 08/02/2016',\n",
       " u'\\n',\n",
       " u' Opportunity Details: ',\n",
       " u' Consider a career with us: ',\n",
       " u'TE Connectivity (NYSE: TEL) is a $12 billion global technology leader. Our connectivity and sensor solutions are essential in today\\u2019s increasingly connected world. We collaborate with engineers to transform their concepts into creations \\u2013 redefining what\\u2019s possible using intelligent, efficient and high-performing TE products and solutions proven in harsh environments.\\xa0Our 72,000 people, including over 7,000 engineers, partner with customers in over 150\\xa0countries across a wide range of industries. We believe EVERY CONNECTION COUNTS \\u2013',\n",
       " u'www.TE.com',\n",
       " u'.\\xa0 \\xa0',\n",
       " u'TEGTA16 ',\n",
       " u' Overview: ',\n",
       " u'TE Connectivity is a global, Fortune 500 company (stock: TEL) which serves multiple industry segments. The Data Sciences and Analytics team is part of the Corporate Strategy group. We are responsible for driving organic growth by leveraging big data and advanced analytics. The team reports to the SVP of Strategy and Business Development and will have regular interactions with the company\\u2019s C-Suite',\n",
       " u'This position will directly report to the Senior Manager of Data Analytics at TE and is expected to support a variety of complex analysis and visualizations using big data technologies for our different businesses spanning through multiple geographic areas.',\n",
       " u' Responsibilities & Qualifications: ',\n",
       " u'Daily work will involve performing one or more of the following activities:',\n",
       " u'Translating a complex strategic challenge into relevant analytic framework(s):',\n",
       " u'Setup and lead meetings to gather business requirements.',\n",
       " u'Ask probing questions to understand business intent and how the end-results will be used. Surface implicit assumptions by the business user. Agree on template end-deliverables.',\n",
       " u'Identify relevant data sources, determine appropriate acquisition approach (e.g. skim relevant data or creation of structured database for manipulation, etc.)',\n",
       " u'Create specific project management plans defining the scope (number and type of analyses, assumptions) and timelines, ensuring that data is obtainable for the analysis required.',\n",
       " u'Where necessary, pulling data into analytic environment using tools like SQL and Hadoop.',\n",
       " u'Identifying practical approaches to test and learn key hypotheses to extend analytic insight.',\n",
       " u'Creating statistical models, algorithms and data visualizations to enable solutions to complex business questions. Examples of analytical tools that may be used include optimization, simulation, regression, decision trees, neural networks, cluster analysis, mixed models, machine learning, deep learning, etc.\\xa0',\n",
       " u'Coding and conducting analyses using tools like R, Python, Spark and others within a Hadoop eco system.',\n",
       " u' A rigorous understanding of the fundamentals of statistics and machine learning applied to business challenges and microeconomics is required. ',\n",
       " u'Proficiency in tools like R, Python and/or Spark is required.',\n",
       " u'A strong curiosity to learn and apply data science techniques and tools is required.',\n",
       " u'Proven ability to work within a climate of ambiguity is necessary.',\n",
       " u'Outstanding communication and presentation skills is a must.',\n",
       " u'A graduate degree (MS or PhD) in STEM disciplines (Science, Technology, Engineering, Math) or in other disciplines with heavy focus on quantitative domains, including statistics, analytics, computing or actuarial sciences is desired.',\n",
       " u'\\n',\n",
       " u'Apply Now',\n",
       " u'\\n',\n",
       " u'\\n',\n",
       " u'\\n',\n",
       " u'\\n',\n",
       " u'\\n',\n",
       " u'\\n',\n",
       " u'\\n',\n",
       " u'Share This Job',\n",
       " u'\\n',\n",
       " u'\\n',\n",
       " u'Facebook',\n",
       " u'\\n',\n",
       " u'Twitter',\n",
       " u'\\n',\n",
       " u'LinkedIn',\n",
       " u'\\n',\n",
       " u'Email',\n",
       " u'\\n',\n",
       " u'\\n',\n",
       " u'\\n',\n",
       " u'\\n',\n",
       " u'\\n',\n",
       " u'\\n',\n",
       " u'\\n',\n",
       " u'A Look Inside ',\n",
       " u'View our company culture',\n",
       " u'\\n',\n",
       " u'\\n',\n",
       " u'\\n',\n",
       " u'\\n',\n",
       " u'\\n',\n",
       " u'\\n',\n",
       " u'Navigator',\n",
       " u'Map this location',\n",
       " u'\\n',\n",
       " u'\\n',\n",
       " u'\\n',\n",
       " u'\\n',\n",
       " u'Join Our Talent Community',\n",
       " u'\\n',\n",
       " u'Email Address',\n",
       " u'Interested In',\n",
       " u'Sign up for job alerts by choosing a job category and/or location. Select a term from the suggestions and click \\u201cadd\\u201d. You must have at least one job category or location selected in order to subscribe.',\n",
       " u'Category',\n",
       " u'Location',\n",
       " u'Add',\n",
       " u'Strategy Business Development and M&A, Berwyn, Pennsylvania, United States',\n",
       " u'Remove',\n",
       " u'Remove',\n",
       " u'\\n',\n",
       " u'\\n',\n",
       " u'Confirm Email',\n",
       " u'\\n',\n",
       " u'\\n',\n",
       " u'\\n',\n",
       " u'\\n',\n",
       " u'\\n',\n",
       " u'\\n',\n",
       " u'\\n',\n",
       " u'\\n',\n",
       " u'\\n',\n",
       " u'\\n',\n",
       " u'\\n',\n",
       " u'Related Links',\n",
       " u'\\n',\n",
       " u'\\n',\n",
       " u'Careers',\n",
       " u'\\n',\n",
       " u'TE Innovations & Values',\n",
       " u'\\n',\n",
       " u'li><a href=\"http://www.te.com/usa-en/about-te/events.html?tab=campus-events#te-page\">Campus Recruiting</a></li',\n",
       " u'\\n',\n",
       " u'Campus Recruiting',\n",
       " u'\\n',\n",
       " u'News Center',\n",
       " u'\\n',\n",
       " u'Investors',\n",
       " u'\\n',\n",
       " u'\\n',\n",
       " u'\\n',\n",
       " u'\\n',\n",
       " u'div id=\"container\" class=\"slider-wrap\"',\n",
       " u'\\n',\n",
       " u'\\n',\n",
       " u'\\n',\n",
       " u'\\n',\n",
       " u'\\n',\n",
       " u'\\n',\n",
       " u'\\n',\n",
       " u'\\n',\n",
       " u'\\n',\n",
       " u'\\n',\n",
       " u'\\n',\n",
       " u'\\n',\n",
       " u'\\n',\n",
       " u'\\n',\n",
       " u'\\n',\n",
       " u'\\n',\n",
       " u'\\n',\n",
       " u'\\n',\n",
       " u'\\n',\n",
       " u'\\n',\n",
       " u'\\n',\n",
       " u'\\n',\n",
       " u'Where do you find TE Products?',\n",
       " u'WATCH OUR VIDEOS',\n",
       " u'\\n',\n",
       " u'\\n',\n",
       " u'/div',\n",
       " u'\\n',\n",
       " u'\\n',\n",
       " u'\\n',\n",
       " u'\\n',\n",
       " u'\\n',\n",
       " u'\\n',\n",
       " u'\\n',\n",
       " u'Related Content',\n",
       " u'\\n',\n",
       " u'\\n',\n",
       " u'\\n',\n",
       " u'\\n',\n",
       " u'Campus Recruiting',\n",
       " u'\\n',\n",
       " u'\\n',\n",
       " u'\\n',\n",
       " u'\\n',\n",
       " u'Through our Campus Recruiting Program, we offer global opportunities that can put you on the pathway toward career success.',\n",
       " u'\\n',\n",
       " u'\\n',\n",
       " u'\\n',\n",
       " u'\\n',\n",
       " u'\\n',\n",
       " u'Advice For New Engineers',\n",
       " u'\\n',\n",
       " u'\\n',\n",
       " u'\\n',\n",
       " u'\\n',\n",
       " u'Engineers from across TE provide guidance to their younger selves on their path to achieving professional success and personal development.',\n",
       " u'\\n',\n",
       " u'\\n',\n",
       " u'\\n',\n",
       " u'\\n',\n",
       " u'\\n',\n",
       " u'A Great Place To Work',\n",
       " u'\\n',\n",
       " u'\\n',\n",
       " u'\\n',\n",
       " u'\\n',\n",
       " u'We are committed to making TE a great place to work by creating a safe environment, emphasizing development and training, and embracing diversity.',\n",
       " u'\\n',\n",
       " u'\\n',\n",
       " u'\\n',\n",
       " u'\\n',\n",
       " u'\\n',\n",
       " u'\\n',\n",
       " u'\\n',\n",
       " u'\\n',\n",
       " u'As an Equal Opportunity Employer, TE Connectivity does not discriminate on the basis of Race, Religion, Color, Age, Gender, Marital Status, Sexual Orientation, National Origin, Physical or Mental Disability, or Vietnam Era or Disabled Veteran Status, or any other categories protected by law. Individuals with disabilities, who require a reasonable accommodation to complete this application and/or to participate in any part of the employee selection process, should contact us via e-mail at ',\n",
       " u'CorporateStaffing@TE.com',\n",
       " u' or by phone (610) 893-9333.',\n",
       " u'\\n',\n",
       " u'\\n',\n",
       " u'\\n',\n",
       " u'\\n',\n",
       " u'\\n',\n",
       " u'\\n',\n",
       " u'\\n',\n",
       " u'\\n',\n",
       " u'\\n',\n",
       " u'\\n',\n",
       " u'\\n',\n",
       " u'\\n',\n",
       " u'\\n',\n",
       " u'\\n']"
      ]
     },
     "execution_count": 5,
     "metadata": {},
     "output_type": "execute_result"
    }
   ],
   "source": [
    "data"
   ]
  },
  {
   "cell_type": "markdown",
   "metadata": {},
   "source": [
    "Using some code that I've borrowed from quora, filter the data fesult, to remove style, scripts, heads, etc. Then filter by length to find those job requirements bullets."
   ]
  },
  {
   "cell_type": "code",
   "execution_count": 7,
   "metadata": {
    "collapsed": false
   },
   "outputs": [],
   "source": [
    "def visible(element):\n",
    "    if element.parent.name in ['style', 'script', '[document]', 'head', 'title']:\n",
    "        return False\n",
    "    elif re.match('<!--.*-->', str(element.encode('utf-8'))):\n",
    "        return False\n",
    "    return True\n",
    " \n",
    "result = filter(visible, data)\n",
    "\n",
    "long_results = [x for x in result if len(x) > 40 and len(x) < 320]\n",
    "len_array = [len(x) for x in long_results]"
   ]
  },
  {
   "cell_type": "code",
   "execution_count": 9,
   "metadata": {
    "collapsed": false
   },
   "outputs": [
    {
     "data": {
      "text/plain": [
       "[u'a href=\"http://www.te.com/global-en/home.html\" class=\"logo\"><img src=\"//tbcdn.talentbrew.com/company/1122/img/logo/logo-2487-2708.png\" alt=\"Jobs at TE CONNECTIVITY\" /></a',\n",
       " u'This position will directly report to the Senior Manager of Data Analytics at TE and is expected to support a variety of complex analysis and visualizations using big data technologies for our different businesses spanning through multiple geographic areas.',\n",
       " u'Daily work will involve performing one or more of the following activities:',\n",
       " u'Translating a complex strategic challenge into relevant analytic framework(s):',\n",
       " u'Setup and lead meetings to gather business requirements.',\n",
       " u'Ask probing questions to understand business intent and how the end-results will be used. Surface implicit assumptions by the business user. Agree on template end-deliverables.',\n",
       " u'Identify relevant data sources, determine appropriate acquisition approach (e.g. skim relevant data or creation of structured database for manipulation, etc.)',\n",
       " u'Create specific project management plans defining the scope (number and type of analyses, assumptions) and timelines, ensuring that data is obtainable for the analysis required.',\n",
       " u'Where necessary, pulling data into analytic environment using tools like SQL and Hadoop.',\n",
       " u'Identifying practical approaches to test and learn key hypotheses to extend analytic insight.',\n",
       " u'Creating statistical models, algorithms and data visualizations to enable solutions to complex business questions. Examples of analytical tools that may be used include optimization, simulation, regression, decision trees, neural networks, cluster analysis, mixed models, machine learning, deep learning, etc.\\xa0',\n",
       " u'Coding and conducting analyses using tools like R, Python, Spark and others within a Hadoop eco system.',\n",
       " u' A rigorous understanding of the fundamentals of statistics and machine learning applied to business challenges and microeconomics is required. ',\n",
       " u'Proficiency in tools like R, Python and/or Spark is required.',\n",
       " u'A strong curiosity to learn and apply data science techniques and tools is required.',\n",
       " u'Proven ability to work within a climate of ambiguity is necessary.',\n",
       " u'Outstanding communication and presentation skills is a must.',\n",
       " u'A graduate degree (MS or PhD) in STEM disciplines (Science, Technology, Engineering, Math) or in other disciplines with heavy focus on quantitative domains, including statistics, analytics, computing or actuarial sciences is desired.',\n",
       " u'Sign up for job alerts by choosing a job category and/or location. Select a term from the suggestions and click \\u201cadd\\u201d. You must have at least one job category or location selected in order to subscribe.',\n",
       " u'Strategy Business Development and M&A, Berwyn, Pennsylvania, United States',\n",
       " u'li><a href=\"http://www.te.com/usa-en/about-te/events.html?tab=campus-events#te-page\">Campus Recruiting</a></li',\n",
       " u'Through our Campus Recruiting Program, we offer global opportunities that can put you on the pathway toward career success.',\n",
       " u'Engineers from across TE provide guidance to their younger selves on their path to achieving professional success and personal development.',\n",
       " u'We are committed to making TE a great place to work by creating a safe environment, emphasizing development and training, and embracing diversity.']"
      ]
     },
     "execution_count": 9,
     "metadata": {},
     "output_type": "execute_result"
    }
   ],
   "source": [
    "long_results"
   ]
  },
  {
   "cell_type": "code",
   "execution_count": 10,
   "metadata": {
    "collapsed": false
   },
   "outputs": [],
   "source": [
    "noturl = re.compile(r'^(.(?!www))*$')\n",
    "notee =  re.compile(r'^(.(?!equal opportunity))*$') #exclude the equal opportunity statement\n",
    "not_thirdparty =  re.compile(r'^(.(?!placement agencies))*$') #exclude the equal opportunity statement\n",
    "not_cr =  re.compile(r'^(.(?!All rights reserved))*$') #exclude the equal opportunity statement\n",
    "\n",
    "\n",
    "long_results_filtered = [i for i in long_results if noturl.search(i)\\\n",
    "                         and notee.search(i)\\\n",
    "                         and not_thirdparty.search(i)\\\n",
    "                        and not_cr.search(i)]"
   ]
  },
  {
   "cell_type": "code",
   "execution_count": 23,
   "metadata": {
    "collapsed": false
   },
   "outputs": [
    {
     "data": {
      "text/plain": [
       "[u'This position will directly report to the Senior Manager of Data Analytics at TE and is expected to support a variety of complex analysis and visualizations using big data technologies for our different businesses spanning through multiple geographic areas.',\n",
       " u'Daily work will involve performing one or more of the following activities:',\n",
       " u'Translating a complex strategic challenge into relevant analytic framework(s):',\n",
       " u'Setup and lead meetings to gather business requirements.',\n",
       " u'Ask probing questions to understand business intent and how the end-results will be used. Surface implicit assumptions by the business user. Agree on template end-deliverables.',\n",
       " u'Identify relevant data sources, determine appropriate acquisition approach (e.g. skim relevant data or creation of structured database for manipulation, etc.)',\n",
       " u'Create specific project management plans defining the scope (number and type of analyses, assumptions) and timelines, ensuring that data is obtainable for the analysis required.',\n",
       " u'Where necessary, pulling data into analytic environment using tools like SQL and Hadoop.',\n",
       " u'Identifying practical approaches to test and learn key hypotheses to extend analytic insight.',\n",
       " u'Creating statistical models, algorithms and data visualizations to enable solutions to complex business questions. Examples of analytical tools that may be used include optimization, simulation, regression, decision trees, neural networks, cluster analysis, mixed models, machine learning, deep learning, etc.\\xa0',\n",
       " u'Coding and conducting analyses using tools like R, Python, Spark and others within a Hadoop eco system.',\n",
       " u' A rigorous understanding of the fundamentals of statistics and machine learning applied to business challenges and microeconomics is required. ',\n",
       " u'Proficiency in tools like R, Python and/or Spark is required.',\n",
       " u'A strong curiosity to learn and apply data science techniques and tools is required.',\n",
       " u'Proven ability to work within a climate of ambiguity is necessary.',\n",
       " u'Outstanding communication and presentation skills is a must.',\n",
       " u'A graduate degree (MS or PhD) in STEM disciplines (Science, Technology, Engineering, Math) or in other disciplines with heavy focus on quantitative domains, including statistics, analytics, computing or actuarial sciences is desired.',\n",
       " u'Sign up for job alerts by choosing a job category and/or location. Select a term from the suggestions and click \\u201cadd\\u201d. You must have at least one job category or location selected in order to subscribe.',\n",
       " u'Strategy Business Development and M&A, Berwyn, Pennsylvania, United States',\n",
       " u'Through our Campus Recruiting Program, we offer global opportunities that can put you on the pathway toward career success.',\n",
       " u'Engineers from across TE provide guidance to their younger selves on their path to achieving professional success and personal development.',\n",
       " u'We are committed to making TE a great place to work by creating a safe environment, emphasizing development and training, and embracing diversity.']"
      ]
     },
     "execution_count": 23,
     "metadata": {},
     "output_type": "execute_result"
    }
   ],
   "source": [
    "long_results_filtered"
   ]
  },
  {
   "cell_type": "code",
   "execution_count": 12,
   "metadata": {
    "collapsed": false
   },
   "outputs": [],
   "source": [
    "single_string = ' '.join(long_results_filtered) #join all of the results into a single string."
   ]
  },
  {
   "cell_type": "markdown",
   "metadata": {},
   "source": [
    "Let's just copy-and-paste in an example job description that I have found for Junior Data Scientist at Verizon."
   ]
  },
  {
   "cell_type": "code",
   "execution_count": 41,
   "metadata": {
    "collapsed": false
   },
   "outputs": [],
   "source": [
    "job_description = \"Be a part of the team that identifies trends, emerging technologies and growth markets—all things that keep us at the forefront of innovation and drive our success Verizon Communications Inc. is a global leader in delivering broadband and other wireless and wireline communications services to mass market, business, government and wholesale customers. A Dow 30 company, Verizon employs a diverse workforce of more than 177,000 and last year generated consolidated revenues of $127 billion.  The Data Analyst – Junior Data Scientist will be part of an objective assurance and consulting team that is independently managed within Verizon Communications designed to add value and improve operations. The Internal Audit team assists the Audit Committee of the Board of Directors and Verizon management in accomplishing their objectives by bringing a systematic and disciplined approach to evaluate and improve the effectiveness of the overall control environment, risk management, and governance processes. The Internal Audit staff gains extensive exposure to diverse aspects of Verizon's business. These audit assignments include increasing levels of responsibilities and presentations to senior management, making Internal Audit an excellent place to work for high potential employees. Have you read Malcolm Gladwell’s books? Or the string of other authors solving business challenges through Data mining? Are you interested in a path to becoming a data scientist? Do you have what it takes to develop great business acumen? Leverage your critical thinking and problem solving skills while leveraging technical tools to analyze large complex data sets? If so then these responsibilities could be yours. As Wikipedia states ”Data Scientist have the ability to find and interpret rich data sources, manage large amounts of data despite hardware, software and bandwidth constraints, merge data sources together, ensure consistency of data-sets, create visualizations to aid in understanding data and building rich tools that enable others to work effectively.” POSITION RESPONSIBILITIES: The Data Analyst – Junior Data Scientist supports a high performance forensic and audit analytics team in its efforts to identify and drive data mining efforts through a risk based approach. The enthusiasm in this position helps mitigate fraud, identify misconduct and control gaps utilizing data mining and analysis.  Responsibilities include the following: Passion for growth and learning new techniques with vigor and enthusiasm. Strong individual contributor with top notch team collaboration skills.  Strong ability to independently and proactively initiate projects, hypothesize business transaction flows and fraudulent scenarios. Design, extract, normalize, analyze, review and automate analysis for Internal Audit utilizing enterprise data warehouse, extracts and data mining tools; coordinate with business for outside data source requirements. Design, develop, maintain and communicate visual dashboards. Design and develop ad-hoc analysis based on business requirement needs. Identify and use appropriate investigative and analytical technologies to interpret and verify results. Coordinate with business to ensure follow-up and resolution of exceptions including specific individual resolution as well as root-cause analysis and control gap identification. Review large software implementations to identify transaction flow gaps, design flaws and data integrity issues. Actively participates in the completion of department initiatives to support the development of a best-in-class Internal Audit function Maintain databases and related programs in a thorough and efficient manner. Qualifications Take part in training courses to increase skill set and technical capabilities in order to better serve the needs of the analytics team. Strong business analytical skills a must; ability to apply business logic to design and implement data mining techniques on large data sets. Projects with evidence of Creative and Critical thinking a must. Understanding of Data Warehousing is a must. Proficient in the use of Teradata SQL, MS SQL server (SSIS/SSAS experience preferred), Data Visualization (e.g., Tableau or other), MS Access, MS Excel, Visual Basic, and Sharepoint. Experience designing, developing, implementing and maintaining a database and programs to manage data analysis efforts. For internal candidates, experience with Verizon Wireless Enterprise Data Warehouse preferred. Working knowledge of ‘Big Data’ concepts and Hadoop/Hive, Teradata Aster, and R tools preferred. Working knowledge of building self-serve analytics tools for business users a plus. Working knowledge of statistical analysis, data mining and predictive modeling tools and techniques a plus. Working knowledge of application development and/or web development a plus. Demonstrated ability to work independently and within a team in a fast changing environment with changing priorities and changing time constraints. Strong interpersonal skills and ability to multi-task. Ability to interpret business requests as well as communicate findings in a user-friendly manner. Experience in normalizing data to ensure it is homogeneous and consistently formatted to enable sorting, query and analysis. Ability to write clear, concise reports and presentations with an ability to orally communicate effectively; organizational and documentation skills a must. An understanding of risk management methodology and factors. Consolidates issues for management level review; develops clear written recommendations, which require minimal editing; presents recommendations and resolves issues with management. BS/BA degree in Management Information Systems, Computer Science, Accounting, Business, Finance, Economics, Statistics or related field.  Masters degree a plus.  At least a 3.0/4.0 overall GPA or equivalent Requires a minimum of 4 years relevant work experience; Analytics, technology, auditing, accounting, finance, or economics.\""
   ]
  },
  {
   "cell_type": "markdown",
   "metadata": {},
   "source": [
    "So, that's the string. In the next cell, let's tokenize this string by word and sentence, which returns lists of all of the words and lists of all of the sentences respectively."
   ]
  },
  {
   "cell_type": "code",
   "execution_count": 13,
   "metadata": {
    "collapsed": false
   },
   "outputs": [
    {
     "ename": "NameError",
     "evalue": "name 'job_description' is not defined",
     "output_type": "error",
     "traceback": [
      "\u001b[0;31m---------------------------------------------------------------------------\u001b[0m",
      "\u001b[0;31mNameError\u001b[0m                                 Traceback (most recent call last)",
      "\u001b[0;32m<ipython-input-13-240798a62e43>\u001b[0m in \u001b[0;36m<module>\u001b[0;34m()\u001b[0m\n\u001b[0;32m----> 1\u001b[0;31m \u001b[0mjd_w_token\u001b[0m \u001b[0;34m=\u001b[0m \u001b[0mnltk\u001b[0m\u001b[0;34m.\u001b[0m\u001b[0mword_tokenize\u001b[0m\u001b[0;34m(\u001b[0m\u001b[0mjob_description\u001b[0m\u001b[0;34m)\u001b[0m \u001b[0;31m#tokenize by word\u001b[0m\u001b[0;34m\u001b[0m\u001b[0m\n\u001b[0m\u001b[1;32m      2\u001b[0m \u001b[0mjd_sent_token\u001b[0m \u001b[0;34m=\u001b[0m \u001b[0mnltk\u001b[0m\u001b[0;34m.\u001b[0m\u001b[0msent_tokenize\u001b[0m\u001b[0;34m(\u001b[0m\u001b[0mjob_description\u001b[0m\u001b[0;34m)\u001b[0m \u001b[0;31m#tokenize by sentence\u001b[0m\u001b[0;34m\u001b[0m\u001b[0m\n",
      "\u001b[0;31mNameError\u001b[0m: name 'job_description' is not defined"
     ]
    }
   ],
   "source": [
    "jd_w_token = nltk.word_tokenize(job_description) #tokenize by word\n",
    "jd_sent_token = nltk.sent_tokenize(job_description) #tokenize by sentence"
   ]
  },
  {
   "cell_type": "markdown",
   "metadata": {},
   "source": [
    "This next cell will attempt to tag each word with its part of speech."
   ]
  },
  {
   "cell_type": "code",
   "execution_count": 14,
   "metadata": {
    "collapsed": false
   },
   "outputs": [
    {
     "ename": "NameError",
     "evalue": "name 'jd_w_token' is not defined",
     "output_type": "error",
     "traceback": [
      "\u001b[0;31m---------------------------------------------------------------------------\u001b[0m",
      "\u001b[0;31mNameError\u001b[0m                                 Traceback (most recent call last)",
      "\u001b[0;32m<ipython-input-14-72b085f19b71>\u001b[0m in \u001b[0;36m<module>\u001b[0;34m()\u001b[0m\n\u001b[0;32m----> 1\u001b[0;31m \u001b[0mtag_w\u001b[0m \u001b[0;34m=\u001b[0m \u001b[0mnltk\u001b[0m\u001b[0;34m.\u001b[0m\u001b[0mpos_tag\u001b[0m\u001b[0;34m(\u001b[0m\u001b[0mjd_w_token\u001b[0m\u001b[0;34m)\u001b[0m \u001b[0;31m#list of tuples of tagged words\u001b[0m\u001b[0;34m\u001b[0m\u001b[0m\n\u001b[0m",
      "\u001b[0;31mNameError\u001b[0m: name 'jd_w_token' is not defined"
     ]
    }
   ],
   "source": [
    "tag_w = nltk.pos_tag(jd_w_token) #list of tuples of tagged words"
   ]
  },
  {
   "cell_type": "markdown",
   "metadata": {},
   "source": [
    "Let's also create a frequency distribution, we'll then make a pandas dataframe out of the part-of-speech and distribution data and then clean and label it"
   ]
  },
  {
   "cell_type": "code",
   "execution_count": 73,
   "metadata": {
    "collapsed": false
   },
   "outputs": [],
   "source": [
    "freq = list(nltk.FreqDist(jd_w_token).items())"
   ]
  },
  {
   "cell_type": "code",
   "execution_count": 75,
   "metadata": {
    "collapsed": false
   },
   "outputs": [],
   "source": [
    "w_df = pd.DataFrame(tag_w) #dataframe of words and parts of speech\n",
    "f_df = pd.DataFrame(freq) #dataframe of frequency distribution"
   ]
  },
  {
   "cell_type": "code",
   "execution_count": 91,
   "metadata": {
    "collapsed": false
   },
   "outputs": [],
   "source": [
    "d = pd.merge(w_df, f_df, on = 0, how = 'inner') #let's merge these into a single dataframe\n",
    "d.drop_duplicates([0], keep = 'last', inplace = True)\n",
    "d.rename(columns = {0: 'word','1_x':'part', '1_y':'count'}, inplace = True)\n",
    "d.sort_values(['part','count'], ascending = False, axis = 0, inplace = True)"
   ]
  },
  {
   "cell_type": "markdown",
   "metadata": {},
   "source": [
    "Let's wrap up these previous cells into a single function that takes an input string and outputs the 'word, part of speech, count' dataframe:"
   ]
  },
  {
   "cell_type": "code",
   "execution_count": 15,
   "metadata": {
    "collapsed": true
   },
   "outputs": [],
   "source": [
    "def WordFrequency(string, return_tag = True):\n",
    "    w_token = nltk.word_tokenize(string) #tokenize by word\n",
    "    s_token = nltk.sent_tokenize(string) #tokenize by sentence\n",
    "    \n",
    "    tag_w = nltk.pos_tag(w_token) #list of tuples of tagged words\n",
    "    freq = list(nltk.FreqDist(w_token).items())\n",
    "    \n",
    "    w_df = pd.DataFrame(tag_w) #dataframe of words and parts of speech\n",
    "    f_df = pd.DataFrame(freq) #dataframe of frequency distribution\n",
    "    \n",
    "    d = pd.merge(w_df, f_df, on = 0, how = 'inner') #let's merge these into a single dataframe\n",
    "    d.drop_duplicates([0], keep = 'last', inplace = True)\n",
    "    d.rename(columns = {0: 'word','1_x':'part', '1_y':'count'}, inplace = True)\n",
    "    d.sort_values(['part','count'], ascending = False, axis = 0, inplace = True)\n",
    "    \n",
    "    if return_tag == True:\n",
    "        return tag_w\n",
    "    else:\n",
    "        return d"
   ]
  },
  {
   "cell_type": "markdown",
   "metadata": {},
   "source": [
    "We now have d, a DataFrame of words, sorted by parts of speech, and then their count, let's select the verbs from this job description:"
   ]
  },
  {
   "cell_type": "code",
   "execution_count": 16,
   "metadata": {
    "collapsed": false
   },
   "outputs": [
    {
     "data": {
      "text/plain": [
       "u'This position will directly report to the Senior Manager of Data Analytics at TE and is expected to support a variety of complex analysis and visualizations using big data technologies for our different businesses spanning through multiple geographic areas. Daily work will involve performing one or more of the following activities: Translating a complex strategic challenge into relevant analytic framework(s): Setup and lead meetings to gather business requirements. Ask probing questions to understand business intent and how the end-results will be used. Surface implicit assumptions by the business user. Agree on template end-deliverables. Identify relevant data sources, determine appropriate acquisition approach (e.g. skim relevant data or creation of structured database for manipulation, etc.) Create specific project management plans defining the scope (number and type of analyses, assumptions) and timelines, ensuring that data is obtainable for the analysis required. Where necessary, pulling data into analytic environment using tools like SQL and Hadoop. Identifying practical approaches to test and learn key hypotheses to extend analytic insight. Creating statistical models, algorithms and data visualizations to enable solutions to complex business questions. Examples of analytical tools that may be used include optimization, simulation, regression, decision trees, neural networks, cluster analysis, mixed models, machine learning, deep learning, etc.\\xa0 Coding and conducting analyses using tools like R, Python, Spark and others within a Hadoop eco system.  A rigorous understanding of the fundamentals of statistics and machine learning applied to business challenges and microeconomics is required.  Proficiency in tools like R, Python and/or Spark is required. A strong curiosity to learn and apply data science techniques and tools is required. Proven ability to work within a climate of ambiguity is necessary. Outstanding communication and presentation skills is a must. A graduate degree (MS or PhD) in STEM disciplines (Science, Technology, Engineering, Math) or in other disciplines with heavy focus on quantitative domains, including statistics, analytics, computing or actuarial sciences is desired. Sign up for job alerts by choosing a job category and/or location. Select a term from the suggestions and click \\u201cadd\\u201d. You must have at least one job category or location selected in order to subscribe. Strategy Business Development and M&A, Berwyn, Pennsylvania, United States Through our Campus Recruiting Program, we offer global opportunities that can put you on the pathway toward career success. Engineers from across TE provide guidance to their younger selves on their path to achieving professional success and personal development. We are committed to making TE a great place to work by creating a safe environment, emphasizing development and training, and embracing diversity.'"
      ]
     },
     "execution_count": 16,
     "metadata": {},
     "output_type": "execute_result"
    }
   ],
   "source": [
    "single_string"
   ]
  },
  {
   "cell_type": "code",
   "execution_count": 17,
   "metadata": {
    "collapsed": false
   },
   "outputs": [],
   "source": [
    "d = WordFrequency(single_string, return_tag = False)"
   ]
  },
  {
   "cell_type": "code",
   "execution_count": 19,
   "metadata": {
    "collapsed": false
   },
   "outputs": [
    {
     "data": {
      "text/html": [
       "<div>\n",
       "<table border=\"1\" class=\"dataframe\">\n",
       "  <thead>\n",
       "    <tr style=\"text-align: right;\">\n",
       "      <th></th>\n",
       "      <th>word</th>\n",
       "      <th>part</th>\n",
       "      <th>count</th>\n",
       "    </tr>\n",
       "  </thead>\n",
       "  <tbody>\n",
       "    <tr>\n",
       "      <th>362</th>\n",
       "      <td>A</td>\n",
       "      <td>NNP</td>\n",
       "      <td>4</td>\n",
       "    </tr>\n",
       "    <tr>\n",
       "      <th>49</th>\n",
       "      <td>TE</td>\n",
       "      <td>NNP</td>\n",
       "      <td>3</td>\n",
       "    </tr>\n",
       "    <tr>\n",
       "      <th>309</th>\n",
       "      <td>Hadoop</td>\n",
       "      <td>NNP</td>\n",
       "      <td>2</td>\n",
       "    </tr>\n",
       "    <tr>\n",
       "      <th>349</th>\n",
       "      <td>R</td>\n",
       "      <td>NNP</td>\n",
       "      <td>2</td>\n",
       "    </tr>\n",
       "    <tr>\n",
       "      <th>351</th>\n",
       "      <td>Python</td>\n",
       "      <td>NNP</td>\n",
       "      <td>2</td>\n",
       "    </tr>\n",
       "    <tr>\n",
       "      <th>353</th>\n",
       "      <td>Spark</td>\n",
       "      <td>NNP</td>\n",
       "      <td>2</td>\n",
       "    </tr>\n",
       "    <tr>\n",
       "      <th>32</th>\n",
       "      <td>Senior</td>\n",
       "      <td>NNP</td>\n",
       "      <td>1</td>\n",
       "    </tr>\n",
       "    <tr>\n",
       "      <th>33</th>\n",
       "      <td>Manager</td>\n",
       "      <td>NNP</td>\n",
       "      <td>1</td>\n",
       "    </tr>\n",
       "    <tr>\n",
       "      <th>43</th>\n",
       "      <td>Data</td>\n",
       "      <td>NNP</td>\n",
       "      <td>1</td>\n",
       "    </tr>\n",
       "    <tr>\n",
       "      <th>44</th>\n",
       "      <td>Analytics</td>\n",
       "      <td>NNP</td>\n",
       "      <td>1</td>\n",
       "    </tr>\n",
       "    <tr>\n",
       "      <th>149</th>\n",
       "      <td>Daily</td>\n",
       "      <td>NNP</td>\n",
       "      <td>1</td>\n",
       "    </tr>\n",
       "    <tr>\n",
       "      <th>201</th>\n",
       "      <td>Ask</td>\n",
       "      <td>NNP</td>\n",
       "      <td>1</td>\n",
       "    </tr>\n",
       "    <tr>\n",
       "      <th>213</th>\n",
       "      <td>Surface</td>\n",
       "      <td>NNP</td>\n",
       "      <td>1</td>\n",
       "    </tr>\n",
       "    <tr>\n",
       "      <th>228</th>\n",
       "      <td>Identify</td>\n",
       "      <td>NNP</td>\n",
       "      <td>1</td>\n",
       "    </tr>\n",
       "    <tr>\n",
       "      <th>272</th>\n",
       "      <td>Create</td>\n",
       "      <td>NNP</td>\n",
       "      <td>1</td>\n",
       "    </tr>\n",
       "    <tr>\n",
       "      <th>307</th>\n",
       "      <td>SQL</td>\n",
       "      <td>NNP</td>\n",
       "      <td>1</td>\n",
       "    </tr>\n",
       "    <tr>\n",
       "      <th>310</th>\n",
       "      <td>Identifying</td>\n",
       "      <td>NNP</td>\n",
       "      <td>1</td>\n",
       "    </tr>\n",
       "    <tr>\n",
       "      <th>383</th>\n",
       "      <td>Proven</td>\n",
       "      <td>NNP</td>\n",
       "      <td>1</td>\n",
       "    </tr>\n",
       "    <tr>\n",
       "      <th>395</th>\n",
       "      <td>MS</td>\n",
       "      <td>NNP</td>\n",
       "      <td>1</td>\n",
       "    </tr>\n",
       "    <tr>\n",
       "      <th>396</th>\n",
       "      <td>PhD</td>\n",
       "      <td>NNP</td>\n",
       "      <td>1</td>\n",
       "    </tr>\n",
       "    <tr>\n",
       "      <th>397</th>\n",
       "      <td>STEM</td>\n",
       "      <td>NNP</td>\n",
       "      <td>1</td>\n",
       "    </tr>\n",
       "    <tr>\n",
       "      <th>400</th>\n",
       "      <td>Science</td>\n",
       "      <td>NNP</td>\n",
       "      <td>1</td>\n",
       "    </tr>\n",
       "    <tr>\n",
       "      <th>401</th>\n",
       "      <td>Technology</td>\n",
       "      <td>NNP</td>\n",
       "      <td>1</td>\n",
       "    </tr>\n",
       "    <tr>\n",
       "      <th>402</th>\n",
       "      <td>Engineering</td>\n",
       "      <td>NNP</td>\n",
       "      <td>1</td>\n",
       "    </tr>\n",
       "    <tr>\n",
       "      <th>403</th>\n",
       "      <td>Math</td>\n",
       "      <td>NNP</td>\n",
       "      <td>1</td>\n",
       "    </tr>\n",
       "    <tr>\n",
       "      <th>416</th>\n",
       "      <td>Sign</td>\n",
       "      <td>NNP</td>\n",
       "      <td>1</td>\n",
       "    </tr>\n",
       "    <tr>\n",
       "      <th>440</th>\n",
       "      <td>Strategy</td>\n",
       "      <td>NNP</td>\n",
       "      <td>1</td>\n",
       "    </tr>\n",
       "    <tr>\n",
       "      <th>441</th>\n",
       "      <td>Business</td>\n",
       "      <td>NNP</td>\n",
       "      <td>1</td>\n",
       "    </tr>\n",
       "    <tr>\n",
       "      <th>442</th>\n",
       "      <td>Development</td>\n",
       "      <td>NNP</td>\n",
       "      <td>1</td>\n",
       "    </tr>\n",
       "    <tr>\n",
       "      <th>443</th>\n",
       "      <td>M</td>\n",
       "      <td>NNP</td>\n",
       "      <td>1</td>\n",
       "    </tr>\n",
       "    <tr>\n",
       "      <th>445</th>\n",
       "      <td>Berwyn</td>\n",
       "      <td>NNP</td>\n",
       "      <td>1</td>\n",
       "    </tr>\n",
       "    <tr>\n",
       "      <th>446</th>\n",
       "      <td>Pennsylvania</td>\n",
       "      <td>NNP</td>\n",
       "      <td>1</td>\n",
       "    </tr>\n",
       "    <tr>\n",
       "      <th>447</th>\n",
       "      <td>United</td>\n",
       "      <td>NNP</td>\n",
       "      <td>1</td>\n",
       "    </tr>\n",
       "    <tr>\n",
       "      <th>450</th>\n",
       "      <td>Campus</td>\n",
       "      <td>NNP</td>\n",
       "      <td>1</td>\n",
       "    </tr>\n",
       "    <tr>\n",
       "      <th>451</th>\n",
       "      <td>Recruiting</td>\n",
       "      <td>NNP</td>\n",
       "      <td>1</td>\n",
       "    </tr>\n",
       "    <tr>\n",
       "      <th>452</th>\n",
       "      <td>Program</td>\n",
       "      <td>NNP</td>\n",
       "      <td>1</td>\n",
       "    </tr>\n",
       "  </tbody>\n",
       "</table>\n",
       "</div>"
      ],
      "text/plain": [
       "             word part  count\n",
       "362             A  NNP      4\n",
       "49             TE  NNP      3\n",
       "309        Hadoop  NNP      2\n",
       "349             R  NNP      2\n",
       "351        Python  NNP      2\n",
       "353         Spark  NNP      2\n",
       "32         Senior  NNP      1\n",
       "33        Manager  NNP      1\n",
       "43           Data  NNP      1\n",
       "44      Analytics  NNP      1\n",
       "149         Daily  NNP      1\n",
       "201           Ask  NNP      1\n",
       "213       Surface  NNP      1\n",
       "228      Identify  NNP      1\n",
       "272        Create  NNP      1\n",
       "307           SQL  NNP      1\n",
       "310   Identifying  NNP      1\n",
       "383        Proven  NNP      1\n",
       "395            MS  NNP      1\n",
       "396           PhD  NNP      1\n",
       "397          STEM  NNP      1\n",
       "400       Science  NNP      1\n",
       "401    Technology  NNP      1\n",
       "402   Engineering  NNP      1\n",
       "403          Math  NNP      1\n",
       "416          Sign  NNP      1\n",
       "440      Strategy  NNP      1\n",
       "441      Business  NNP      1\n",
       "442   Development  NNP      1\n",
       "443             M  NNP      1\n",
       "445        Berwyn  NNP      1\n",
       "446  Pennsylvania  NNP      1\n",
       "447        United  NNP      1\n",
       "450        Campus  NNP      1\n",
       "451    Recruiting  NNP      1\n",
       "452       Program  NNP      1"
      ]
     },
     "execution_count": 19,
     "metadata": {},
     "output_type": "execute_result"
    }
   ],
   "source": [
    "d[(d['part'] == 'NNP')]"
   ]
  },
  {
   "cell_type": "code",
   "execution_count": 16,
   "metadata": {
    "collapsed": false
   },
   "outputs": [],
   "source": [
    "grammar = \"NP: {<DT>?<JJ>*<NN>}\"\n",
    "cp = nltk.RegexpParser(grammar)\n",
    "\n",
    "result = cp.parse(WordFrequency(single_string))"
   ]
  },
  {
   "cell_type": "code",
   "execution_count": 33,
   "metadata": {
    "collapsed": false
   },
   "outputs": [],
   "source": [
    "from textstat.textstat import textstat"
   ]
  },
  {
   "cell_type": "code",
   "execution_count": 51,
   "metadata": {
    "collapsed": false
   },
   "outputs": [
    {
     "data": {
      "text/plain": [
       "29.86"
      ]
     },
     "execution_count": 51,
     "metadata": {},
     "output_type": "execute_result"
    }
   ],
   "source": [
    "textstat.flesch_reading_ease(single_string)"
   ]
  },
  {
   "cell_type": "code",
   "execution_count": 52,
   "metadata": {
    "collapsed": false
   },
   "outputs": [
    {
     "data": {
      "text/plain": [
       "13.1"
      ]
     },
     "execution_count": 52,
     "metadata": {},
     "output_type": "execute_result"
    }
   ],
   "source": [
    "textstat.flesch_kincaid_grade(single_string)"
   ]
  },
  {
   "cell_type": "code",
   "execution_count": 74,
   "metadata": {
    "collapsed": false
   },
   "outputs": [],
   "source": [
    "import pattern.en as en"
   ]
  },
  {
   "cell_type": "code",
   "execution_count": 78,
   "metadata": {
    "collapsed": false
   },
   "outputs": [
    {
     "data": {
      "text/html": [
       "<div>\n",
       "<table border=\"1\" class=\"dataframe\">\n",
       "  <thead>\n",
       "    <tr style=\"text-align: right;\">\n",
       "      <th></th>\n",
       "      <th>word</th>\n",
       "      <th>part</th>\n",
       "      <th>count</th>\n",
       "    </tr>\n",
       "  </thead>\n",
       "  <tbody>\n",
       "    <tr>\n",
       "      <th>362</th>\n",
       "      <td>A</td>\n",
       "      <td>NNP</td>\n",
       "      <td>4</td>\n",
       "    </tr>\n",
       "    <tr>\n",
       "      <th>49</th>\n",
       "      <td>TE</td>\n",
       "      <td>NNP</td>\n",
       "      <td>3</td>\n",
       "    </tr>\n",
       "    <tr>\n",
       "      <th>309</th>\n",
       "      <td>Hadoop</td>\n",
       "      <td>NNP</td>\n",
       "      <td>2</td>\n",
       "    </tr>\n",
       "    <tr>\n",
       "      <th>349</th>\n",
       "      <td>R</td>\n",
       "      <td>NNP</td>\n",
       "      <td>2</td>\n",
       "    </tr>\n",
       "    <tr>\n",
       "      <th>351</th>\n",
       "      <td>Python</td>\n",
       "      <td>NNP</td>\n",
       "      <td>2</td>\n",
       "    </tr>\n",
       "    <tr>\n",
       "      <th>353</th>\n",
       "      <td>Spark</td>\n",
       "      <td>NNP</td>\n",
       "      <td>2</td>\n",
       "    </tr>\n",
       "    <tr>\n",
       "      <th>32</th>\n",
       "      <td>Senior</td>\n",
       "      <td>NNP</td>\n",
       "      <td>1</td>\n",
       "    </tr>\n",
       "    <tr>\n",
       "      <th>33</th>\n",
       "      <td>Manager</td>\n",
       "      <td>NNP</td>\n",
       "      <td>1</td>\n",
       "    </tr>\n",
       "    <tr>\n",
       "      <th>43</th>\n",
       "      <td>Data</td>\n",
       "      <td>NNP</td>\n",
       "      <td>1</td>\n",
       "    </tr>\n",
       "    <tr>\n",
       "      <th>44</th>\n",
       "      <td>Analytics</td>\n",
       "      <td>NNP</td>\n",
       "      <td>1</td>\n",
       "    </tr>\n",
       "    <tr>\n",
       "      <th>149</th>\n",
       "      <td>Daily</td>\n",
       "      <td>NNP</td>\n",
       "      <td>1</td>\n",
       "    </tr>\n",
       "    <tr>\n",
       "      <th>201</th>\n",
       "      <td>Ask</td>\n",
       "      <td>NNP</td>\n",
       "      <td>1</td>\n",
       "    </tr>\n",
       "    <tr>\n",
       "      <th>213</th>\n",
       "      <td>Surface</td>\n",
       "      <td>NNP</td>\n",
       "      <td>1</td>\n",
       "    </tr>\n",
       "    <tr>\n",
       "      <th>228</th>\n",
       "      <td>Identify</td>\n",
       "      <td>NNP</td>\n",
       "      <td>1</td>\n",
       "    </tr>\n",
       "    <tr>\n",
       "      <th>272</th>\n",
       "      <td>Create</td>\n",
       "      <td>NNP</td>\n",
       "      <td>1</td>\n",
       "    </tr>\n",
       "    <tr>\n",
       "      <th>307</th>\n",
       "      <td>SQL</td>\n",
       "      <td>NNP</td>\n",
       "      <td>1</td>\n",
       "    </tr>\n",
       "    <tr>\n",
       "      <th>310</th>\n",
       "      <td>Identifying</td>\n",
       "      <td>NNP</td>\n",
       "      <td>1</td>\n",
       "    </tr>\n",
       "    <tr>\n",
       "      <th>383</th>\n",
       "      <td>Proven</td>\n",
       "      <td>NNP</td>\n",
       "      <td>1</td>\n",
       "    </tr>\n",
       "    <tr>\n",
       "      <th>395</th>\n",
       "      <td>MS</td>\n",
       "      <td>NNP</td>\n",
       "      <td>1</td>\n",
       "    </tr>\n",
       "    <tr>\n",
       "      <th>396</th>\n",
       "      <td>PhD</td>\n",
       "      <td>NNP</td>\n",
       "      <td>1</td>\n",
       "    </tr>\n",
       "    <tr>\n",
       "      <th>397</th>\n",
       "      <td>STEM</td>\n",
       "      <td>NNP</td>\n",
       "      <td>1</td>\n",
       "    </tr>\n",
       "    <tr>\n",
       "      <th>400</th>\n",
       "      <td>Science</td>\n",
       "      <td>NNP</td>\n",
       "      <td>1</td>\n",
       "    </tr>\n",
       "    <tr>\n",
       "      <th>401</th>\n",
       "      <td>Technology</td>\n",
       "      <td>NNP</td>\n",
       "      <td>1</td>\n",
       "    </tr>\n",
       "    <tr>\n",
       "      <th>402</th>\n",
       "      <td>Engineering</td>\n",
       "      <td>NNP</td>\n",
       "      <td>1</td>\n",
       "    </tr>\n",
       "    <tr>\n",
       "      <th>403</th>\n",
       "      <td>Math</td>\n",
       "      <td>NNP</td>\n",
       "      <td>1</td>\n",
       "    </tr>\n",
       "    <tr>\n",
       "      <th>416</th>\n",
       "      <td>Sign</td>\n",
       "      <td>NNP</td>\n",
       "      <td>1</td>\n",
       "    </tr>\n",
       "    <tr>\n",
       "      <th>440</th>\n",
       "      <td>Strategy</td>\n",
       "      <td>NNP</td>\n",
       "      <td>1</td>\n",
       "    </tr>\n",
       "    <tr>\n",
       "      <th>441</th>\n",
       "      <td>Business</td>\n",
       "      <td>NNP</td>\n",
       "      <td>1</td>\n",
       "    </tr>\n",
       "    <tr>\n",
       "      <th>442</th>\n",
       "      <td>Development</td>\n",
       "      <td>NNP</td>\n",
       "      <td>1</td>\n",
       "    </tr>\n",
       "    <tr>\n",
       "      <th>443</th>\n",
       "      <td>M</td>\n",
       "      <td>NNP</td>\n",
       "      <td>1</td>\n",
       "    </tr>\n",
       "    <tr>\n",
       "      <th>445</th>\n",
       "      <td>Berwyn</td>\n",
       "      <td>NNP</td>\n",
       "      <td>1</td>\n",
       "    </tr>\n",
       "    <tr>\n",
       "      <th>446</th>\n",
       "      <td>Pennsylvania</td>\n",
       "      <td>NNP</td>\n",
       "      <td>1</td>\n",
       "    </tr>\n",
       "    <tr>\n",
       "      <th>447</th>\n",
       "      <td>United</td>\n",
       "      <td>NNP</td>\n",
       "      <td>1</td>\n",
       "    </tr>\n",
       "    <tr>\n",
       "      <th>478</th>\n",
       "      <td>Campus</td>\n",
       "      <td>NNP</td>\n",
       "      <td>1</td>\n",
       "    </tr>\n",
       "    <tr>\n",
       "      <th>479</th>\n",
       "      <td>Recruiting</td>\n",
       "      <td>NNP</td>\n",
       "      <td>1</td>\n",
       "    </tr>\n",
       "    <tr>\n",
       "      <th>480</th>\n",
       "      <td>Program</td>\n",
       "      <td>NNP</td>\n",
       "      <td>1</td>\n",
       "    </tr>\n",
       "  </tbody>\n",
       "</table>\n",
       "</div>"
      ],
      "text/plain": [
       "             word part  count\n",
       "362             A  NNP      4\n",
       "49             TE  NNP      3\n",
       "309        Hadoop  NNP      2\n",
       "349             R  NNP      2\n",
       "351        Python  NNP      2\n",
       "353         Spark  NNP      2\n",
       "32         Senior  NNP      1\n",
       "33        Manager  NNP      1\n",
       "43           Data  NNP      1\n",
       "44      Analytics  NNP      1\n",
       "149         Daily  NNP      1\n",
       "201           Ask  NNP      1\n",
       "213       Surface  NNP      1\n",
       "228      Identify  NNP      1\n",
       "272        Create  NNP      1\n",
       "307           SQL  NNP      1\n",
       "310   Identifying  NNP      1\n",
       "383        Proven  NNP      1\n",
       "395            MS  NNP      1\n",
       "396           PhD  NNP      1\n",
       "397          STEM  NNP      1\n",
       "400       Science  NNP      1\n",
       "401    Technology  NNP      1\n",
       "402   Engineering  NNP      1\n",
       "403          Math  NNP      1\n",
       "416          Sign  NNP      1\n",
       "440      Strategy  NNP      1\n",
       "441      Business  NNP      1\n",
       "442   Development  NNP      1\n",
       "443             M  NNP      1\n",
       "445        Berwyn  NNP      1\n",
       "446  Pennsylvania  NNP      1\n",
       "447        United  NNP      1\n",
       "478        Campus  NNP      1\n",
       "479    Recruiting  NNP      1\n",
       "480       Program  NNP      1"
      ]
     },
     "execution_count": 78,
     "metadata": {},
     "output_type": "execute_result"
    }
   ],
   "source": [
    "d[(d['part'] == 'NNP')]"
   ]
  },
  {
   "cell_type": "code",
   "execution_count": 73,
   "metadata": {
    "collapsed": false
   },
   "outputs": [
    {
     "ename": "AttributeError",
     "evalue": "'module' object has no attribute 'is_number'",
     "output_type": "error",
     "traceback": [
      "\u001b[0;31m---------------------------------------------------------------------------\u001b[0m",
      "\u001b[0;31mAttributeError\u001b[0m                            Traceback (most recent call last)",
      "\u001b[0;32m<ipython-input-73-6b887ce5490a>\u001b[0m in \u001b[0;36m<module>\u001b[0;34m()\u001b[0m\n\u001b[0;32m----> 1\u001b[0;31m \u001b[0men\u001b[0m\u001b[0;34m.\u001b[0m\u001b[0mis_number\u001b[0m\u001b[0;34m(\u001b[0m\u001b[0;36m12\u001b[0m\u001b[0;34m)\u001b[0m\u001b[0;34m\u001b[0m\u001b[0m\n\u001b[0m",
      "\u001b[0;31mAttributeError\u001b[0m: 'module' object has no attribute 'is_number'"
     ]
    }
   ],
   "source": [
    "en.is_number(12)"
   ]
  },
  {
   "cell_type": "code",
   "execution_count": null,
   "metadata": {
    "collapsed": true
   },
   "outputs": [],
   "source": [
    "#Nick's test comment"
   ]
  }
 ],
 "metadata": {
  "kernelspec": {
   "display_name": "Python 2",
   "language": "python",
   "name": "python2"
  },
  "language_info": {
   "codemirror_mode": {
    "name": "ipython",
    "version": 2
   },
   "file_extension": ".py",
   "mimetype": "text/x-python",
   "name": "python",
   "nbconvert_exporter": "python",
   "pygments_lexer": "ipython2",
   "version": "2.7.11"
  }
 },
 "nbformat": 4,
 "nbformat_minor": 0
}
